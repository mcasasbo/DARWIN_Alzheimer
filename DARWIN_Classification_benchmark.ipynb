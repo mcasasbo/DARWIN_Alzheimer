{
 "cells": [
  {
   "cell_type": "markdown",
   "metadata": {},
   "source": [
    "# DARWIN (Diagnosis AlzheimeR WIth haNdwriting) Clasification"
   ]
  },
  {
   "cell_type": "markdown",
   "metadata": {},
   "source": [
    "## 1. Libraries"
   ]
  },
  {
   "cell_type": "code",
   "execution_count": 39,
   "metadata": {},
   "outputs": [],
   "source": [
    "#!pip install graphviz"
   ]
  },
  {
   "cell_type": "code",
   "execution_count": 40,
   "metadata": {},
   "outputs": [],
   "source": [
    "import time\n",
    "\n",
    "import pandas as pd \n",
    "import numpy as np\n",
    "import matplotlib.pyplot as plt\n",
    "import seaborn as sns\n",
    "import os\n",
    "\n",
    "import sklearn\n",
    "from sklearn import set_config\n",
    "from sklearn.tree import DecisionTreeClassifier\n",
    "from sklearn.ensemble import RandomForestClassifier, GradientBoostingClassifier\n",
    "from sklearn.preprocessing import MinMaxScaler,  LabelEncoder\n",
    "from sklearn.pipeline import Pipeline\n",
    "from sklearn.compose import ColumnTransformer\n",
    "from sklearn import metrics\n",
    "from sklearn.metrics import f1_score\n",
    "from sklearn.model_selection import train_test_split,  KFold, cross_validate\n",
    "from sklearn.metrics import  confusion_matrix, roc_auc_score\n",
    "\n",
    "\n",
    "set_config(transform_output = \"pandas\")"
   ]
  },
  {
   "cell_type": "markdown",
   "metadata": {},
   "source": [
    "## 2. Data"
   ]
  },
  {
   "cell_type": "code",
   "execution_count": 41,
   "metadata": {},
   "outputs": [],
   "source": [
    "file_dir = 'C:/Users/mcabo/Desktop/Proyects/Machine Learning/data'\n",
    "file_name =  \"/DARWIN.csv\"\n",
    "df = pd.read_csv(file_dir + file_name, sep = \",\")"
   ]
  },
  {
   "cell_type": "markdown",
   "metadata": {},
   "source": [
    "## 3. Functions"
   ]
  },
  {
   "cell_type": "markdown",
   "metadata": {},
   "source": [
    "#### Feature enginering"
   ]
  },
  {
   "cell_type": "code",
   "execution_count": 42,
   "metadata": {},
   "outputs": [],
   "source": [
    "def detect_outliers(df):\n",
    "    outlier_vars = []\n",
    "    \n",
    "    summary = df.describe()\n",
    "    IQR = summary.loc['75%'] - summary.loc['25%']\n",
    "    \n",
    "    lower_bound = summary.loc['25%'] - 1.5 * IQR\n",
    "    upper_bound = summary.loc['75%'] + 1.5 * IQR\n",
    "    \n",
    "    for col in df.select_dtypes(include='number').columns:\n",
    "        outliers_lower = df[col] < lower_bound[col]\n",
    "        outliers_upper = df[col] > upper_bound[col]\n",
    "        \n",
    "        if outliers_lower.any() or outliers_upper.any():\n",
    "            outlier_vars.append(col)\n",
    "    \n",
    "    return outlier_vars\n",
    "\n",
    "\n",
    "def numeric_lists_transf(df, num_cols):\n",
    "    minmaxscaler_vars = []\n",
    "    log_vars = []\n",
    "    \n",
    "    summary = df.describe()\n",
    "    IQR = summary.loc['75%'] - summary.loc['25%']\n",
    "    \n",
    "    lower_bound = summary.loc['25%'] - 1.5 * IQR\n",
    "    upper_bound = summary.loc['75%'] + 1.5 * IQR\n",
    "    \n",
    "    for col in num_cols:\n",
    "        outliers_lower = df[col] < lower_bound[col]\n",
    "        outliers_upper = df[col] > upper_bound[col]\n",
    "        \n",
    "        if outliers_lower.any() or outliers_upper.any():\n",
    "            log_vars.append(col)\n",
    "        else:\n",
    "            minmaxscaler_vars.append(col)\n",
    "\n",
    "    return log_vars, minmaxscaler_vars"
   ]
  },
  {
   "cell_type": "markdown",
   "metadata": {},
   "source": [
    "#### Modelling"
   ]
  },
  {
   "cell_type": "code",
   "execution_count": 43,
   "metadata": {},
   "outputs": [],
   "source": [
    "def predictions_cl(X_test, y_test, X_val, y_val, Algorithm, TARGET):\n",
    "    y_test_pred = pd.DataFrame(Algorithm.predict(X_test), index=y_test.index, columns=[TARGET])\n",
    "    acc_test = Algorithm.score(X_test, y_test)\n",
    "    acc_val = Algorithm.score(X_val, y_val)\n",
    "    f1 = f1_score(y_test, y_test_pred)\n",
    "    y_proba = Algorithm.predict_proba(X_test)[:, 1]\n",
    "    auc = roc_auc_score(y_test, y_proba)\n",
    "    return print(f'Accuracy test: {round(acc_test, 3)}, Accuracy validation: {round(acc_val, 3)}, F1 score: {round(f1, 3)}, AUC: {round(auc, 3)}')\n",
    "\n",
    "def AUC_pred(X, Y, algorithm):\n",
    "    y_proba = algorithm.predict_proba(X)[:, 1]\n",
    "    auc = roc_auc_score(Y, y_proba)\n",
    "    return print(\"AUC:\", auc)\n",
    "\n",
    "def paint_confusion_matrix(X_test, y_test, algorithm):\n",
    "    y_pred = algorithm.predict(X_test)\n",
    "    cm = confusion_matrix(y_test, y_pred)\n",
    "    plt.figure(figsize=(8, 6))\n",
    "    sns.heatmap(cm, annot=True, cmap='Blues', fmt='g', cbar=False)\n",
    "    plt.xlabel('Predicted labels')\n",
    "    plt.ylabel('True labels')\n",
    "    plt.title('Confusion Matrix')\n",
    "    return plt.show()\n",
    "\n",
    "def paint_roc_curve(X_test, y_test, algorithm):\n",
    "    y_proba = algorithm.predict_proba(X_test)[:, 1]\n",
    "    fpr, tpr, _ = metrics.roc_curve(y_test, y_proba)\n",
    "\n",
    "    plt.clf()\n",
    "    plt.plot(fpr, tpr)\n",
    "    plt.plot([0, 1], [0, 1], color='gray', linestyle='--')\n",
    "    plt.xlabel('FPR')\n",
    "    plt.ylabel('TPR')\n",
    "    plt.title('ROC curve')\n",
    "    plt.show()\n",
    "\n",
    "def models_comparison_roc_curve(X_train, y_train, X_test, y_test, model_1, model_2, model_3):\n",
    "\n",
    "    models = [ \n",
    "        (model_1),\n",
    "        (model_2),\n",
    "        (model_3)\n",
    "    ]\n",
    "    plt.clf()\n",
    "    for model in models:\n",
    "        model_name = model[0]\n",
    "        model_instance = model[1]\n",
    "        model_instance.fit(X_train, np.ravel(y_train))\n",
    "        predictions = model_instance.predict_proba(X_test)[:,1]\n",
    "        auc_score = metrics.roc_auc_score(y_test, predictions)\n",
    "        print('ROC AUC Score for {}: {}'.format(model_name, round(auc_score, 3)))\n",
    "        fpr, tpr, _ = metrics.roc_curve(y_test, predictions)\n",
    "        plt.plot(fpr, tpr, label='ROC Curve for {} - Area: {:2f}'.format(model_name, auc_score))\n",
    "    plt.plot([0, 1], [0, 1], color='gray', linestyle='--')\n",
    "    plt.xlabel('FPR')\n",
    "    plt.ylabel('TPR')\n",
    "    plt.legend(loc=\"lower right\")\n",
    "    plt.title('ROC curve')\n",
    "    return plt.show()\n",
    "\n",
    "def validation_strategy_cl(dataframe, TARGET):\n",
    "    X_train_, X_val, y_train_, y_val = train_test_split(dataframe.drop(TARGET, axis=1), dataframe[TARGET], test_size=0.20, random_state=42)\n",
    "    X_train, X_test, y_train, y_test = train_test_split(X_train_, y_train_, test_size = 0.20, random_state = 52)\n",
    "    return X_train, X_test, y_train, y_test, X_val, y_val\n",
    "\n"
   ]
  },
  {
   "cell_type": "code",
   "execution_count": 44,
   "metadata": {},
   "outputs": [],
   "source": [
    "#df.columns"
   ]
  },
  {
   "cell_type": "code",
   "execution_count": 45,
   "metadata": {},
   "outputs": [],
   "source": [
    "df = df.set_index('ID')"
   ]
  },
  {
   "cell_type": "code",
   "execution_count": 46,
   "metadata": {},
   "outputs": [
    {
     "data": {
      "text/plain": [
       "True"
      ]
     },
     "execution_count": 46,
     "metadata": {},
     "output_type": "execute_result"
    }
   ],
   "source": [
    "len(df.select_dtypes(include = 'number').columns) == len(df.drop('class', axis = 1).columns)"
   ]
  },
  {
   "cell_type": "markdown",
   "metadata": {},
   "source": [
    "## 4. Preprocessing"
   ]
  },
  {
   "cell_type": "code",
   "execution_count": 47,
   "metadata": {},
   "outputs": [],
   "source": [
    "target = 'class'"
   ]
  },
  {
   "cell_type": "code",
   "execution_count": 48,
   "metadata": {},
   "outputs": [],
   "source": [
    "numeric_vars = df.select_dtypes(include = 'number').columns"
   ]
  },
  {
   "cell_type": "code",
   "execution_count": 49,
   "metadata": {},
   "outputs": [],
   "source": [
    "vars = df.drop('class', axis = 1)"
   ]
  },
  {
   "cell_type": "code",
   "execution_count": 50,
   "metadata": {},
   "outputs": [
    {
     "data": {
      "text/plain": [
       "(174, 451)"
      ]
     },
     "execution_count": 50,
     "metadata": {},
     "output_type": "execute_result"
    }
   ],
   "source": [
    "df.shape"
   ]
  },
  {
   "cell_type": "code",
   "execution_count": 51,
   "metadata": {},
   "outputs": [
    {
     "data": {
      "text/plain": [
       "class\n",
       "P    89\n",
       "H    85\n",
       "Name: count, dtype: int64"
      ]
     },
     "execution_count": 51,
     "metadata": {},
     "output_type": "execute_result"
    }
   ],
   "source": [
    "df[target].value_counts()"
   ]
  },
  {
   "cell_type": "code",
   "execution_count": 52,
   "metadata": {},
   "outputs": [],
   "source": [
    "df_t = df"
   ]
  },
  {
   "cell_type": "code",
   "execution_count": 53,
   "metadata": {},
   "outputs": [
    {
     "data": {
      "text/plain": [
       "(174, 451)"
      ]
     },
     "execution_count": 53,
     "metadata": {},
     "output_type": "execute_result"
    }
   ],
   "source": [
    "df_t.shape"
   ]
  },
  {
   "cell_type": "code",
   "execution_count": 54,
   "metadata": {},
   "outputs": [
    {
     "name": "stderr",
     "output_type": "stream",
     "text": [
      "C:\\Users\\mcabo\\AppData\\Local\\Temp\\ipykernel_27212\\896656567.py:2: PerformanceWarning: DataFrame is highly fragmented.  This is usually the result of calling `frame.insert` many times, which has poor performance.  Consider joining all columns at once using pd.concat(axis=1) instead. To get a de-fragmented frame, use `newframe = frame.copy()`\n",
      "  df_t['target_encoded'] = le.fit_transform(df['class'])\n"
     ]
    }
   ],
   "source": [
    "le = LabelEncoder()\n",
    "df_t['target_encoded'] = le.fit_transform(df['class'])\n",
    "df_t.drop('class', axis = 1, inplace = True)"
   ]
  },
  {
   "cell_type": "code",
   "execution_count": 55,
   "metadata": {},
   "outputs": [],
   "source": [
    "def get_pipe(model):\n",
    "\n",
    "    ct_ = ColumnTransformer(transformers = [\n",
    "        ('scaler', MinMaxScaler(), numeric_vars)\n",
    "    ])\n",
    "\n",
    "    pipe = Pipeline(steps = [\n",
    "        ('ct', ct_),\n",
    "        ('model', model)\n",
    "    ])\n",
    "\n",
    "    return pipe"
   ]
  },
  {
   "cell_type": "markdown",
   "metadata": {},
   "source": [
    "## 5. Testing algorithms"
   ]
  },
  {
   "cell_type": "markdown",
   "metadata": {},
   "source": [
    "### 5.1. Decision Tree Cl"
   ]
  },
  {
   "cell_type": "code",
   "execution_count": 56,
   "metadata": {},
   "outputs": [],
   "source": [
    "X_train = df_t.drop('target_encoded', axis = 1)\n",
    "y_train = df_t['target_encoded']"
   ]
  },
  {
   "cell_type": "code",
   "execution_count": 57,
   "metadata": {},
   "outputs": [
    {
     "name": "stdout",
     "output_type": "stream",
     "text": [
      "fit_time scores for each fold: [0.09310102 0.08054137 0.07711816 0.14114022 0.07667685]\n",
      "Mean fit_time score: 0.094\n",
      "Standard desviation of fit_time: 0.02444924139993055\n",
      "\n",
      "score_time scores for each fold: [0.08053708 0.07052326 0.05817294 0.08053207 0.0632782 ]\n",
      "Mean score_time score: 0.071\n",
      "Standard desviation of score_time: 0.00900486255369045\n",
      "\n",
      "test_accuracy scores for each fold: [0.88571429 0.8        0.82857143 0.71428571 0.64705882]\n",
      "Mean test_accuracy score: 0.775\n",
      "Standard desviation of test_accuracy: 0.0846258124963538\n",
      "\n",
      "test_roc_auc scores for each fold: [0.89166667 0.80228758 0.83169935 0.73190789 0.65277778]\n",
      "Mean test_roc_auc score: 0.782\n",
      "Standard desviation of test_roc_auc: 0.08260262403504963\n",
      "\n",
      "test_f1 scores for each fold: [0.89473684 0.81081081 0.84210526 0.66666667 0.66666667]\n",
      "Mean test_f1 score: 0.776\n",
      "Standard desviation of test_f1: 0.09336755009915133\n",
      "\n"
     ]
    }
   ],
   "source": [
    "kfold = KFold(n_splits= 5, shuffle = True, random_state= 42)\n",
    "pipe_dt = get_pipe(DecisionTreeClassifier())\n",
    "\n",
    "scores = cross_validate(pipe_dt, X_train, y_train, cv=kfold, scoring=['accuracy', 'roc_auc', 'f1'], return_train_score=False)\n",
    "\n",
    "for metric in scores.keys():\n",
    "    print(f\"{metric} scores for each fold: {scores[metric]}\")\n",
    "    print(f\"Mean {metric} score: {round(np.mean(scores[metric]), 3)}\")\n",
    "    print(f\"Standard desviation of {metric}: {np.std(scores[metric])}\\n\")"
   ]
  },
  {
   "cell_type": "markdown",
   "metadata": {},
   "source": [
    "### 5.2. Random Forest Cl"
   ]
  },
  {
   "cell_type": "code",
   "execution_count": 58,
   "metadata": {},
   "outputs": [
    {
     "name": "stdout",
     "output_type": "stream",
     "text": [
      "fit_time scores for each fold: [0.32223248 0.28838563 0.28790784 0.28713989 0.28749633]\n",
      "Mean fit_time score: 0.295\n",
      "Standard desviation of fit_time: 0.013806286471994502\n",
      "\n",
      "score_time scores for each fold: [0.07613277 0.11902094 0.06396174 0.06175876 0.06412268]\n",
      "Mean score_time score: 0.077\n",
      "Standard desviation of score_time: 0.021608463362389935\n",
      "\n",
      "test_accuracy scores for each fold: [0.88571429 0.97142857 0.82857143 0.82857143 0.88235294]\n",
      "Mean test_accuracy score: 0.879\n",
      "Standard desviation of test_accuracy: 0.05231617198882343\n",
      "\n",
      "test_roc_auc scores for each fold: [0.96333333 0.97712418 0.92810458 0.95230263 0.95138889]\n",
      "Mean test_roc_auc score: 0.954\n",
      "Standard desviation of test_roc_auc: 0.01613130612013196\n",
      "\n",
      "test_f1 scores for each fold: [0.89473684 0.97142857 0.82352941 0.83333333 0.88888889]\n",
      "Mean test_f1 score: 0.882\n",
      "Standard desviation of test_f1: 0.052903066912003055\n",
      "\n"
     ]
    }
   ],
   "source": [
    "pipe_rf = get_pipe(RandomForestClassifier())\n",
    "\n",
    "scores = cross_validate(pipe_rf, X_train, y_train, cv=kfold, scoring=['accuracy', 'roc_auc', 'f1'], return_train_score=False)\n",
    "\n",
    "for metric in scores.keys():\n",
    "    print(f\"{metric} scores for each fold: {scores[metric]}\")\n",
    "    print(f\"Mean {metric} score: {round(np.mean(scores[metric]), 3)}\")\n",
    "    print(f\"Standard desviation of {metric}: {np.std(scores[metric])}\\n\")"
   ]
  },
  {
   "cell_type": "markdown",
   "metadata": {},
   "source": [
    "### 5.3. Gradient Boosting Cl"
   ]
  },
  {
   "cell_type": "code",
   "execution_count": 59,
   "metadata": {},
   "outputs": [
    {
     "name": "stdout",
     "output_type": "stream",
     "text": [
      "fit_time scores for each fold: [2.62987137 2.60240006 2.62759256 2.64353824 2.69685936]\n",
      "Mean fit_time score: 2.64\n",
      "Standard desviation of fit_time: 0.031355321811714874\n",
      "\n",
      "score_time scores for each fold: [0.05231237 0.04734278 0.05144453 0.05468965 0.04580307]\n",
      "Mean score_time score: 0.05\n",
      "Standard desviation of score_time: 0.003273970900899572\n",
      "\n",
      "test_accuracy scores for each fold: [0.88571429 0.88571429 0.88571429 0.77142857 0.79411765]\n",
      "Mean test_accuracy score: 0.845\n",
      "Standard desviation of test_accuracy: 0.050938512055724965\n",
      "\n",
      "test_roc_auc scores for each fold: [0.97666667 0.97385621 0.97385621 0.87828947 0.90277778]\n",
      "Mean test_roc_auc score: 0.941\n",
      "Standard desviation of test_roc_auc: 0.042011142830772376\n",
      "\n",
      "test_f1 scores for each fold: [0.89473684 0.88888889 0.88235294 0.75       0.81081081]\n",
      "Mean test_f1 score: 0.845\n",
      "Standard desviation of test_f1: 0.05654819263704897\n",
      "\n"
     ]
    }
   ],
   "source": [
    "pipe_gb = get_pipe(GradientBoostingClassifier())\n",
    "\n",
    "scores = cross_validate(pipe_gb, X_train, y_train, cv=kfold, scoring=['accuracy', 'roc_auc', 'f1'], return_train_score=False)\n",
    "\n",
    "for metric in scores.keys():\n",
    "    print(f\"{metric} scores for each fold: {scores[metric]}\")\n",
    "    print(f\"Mean {metric} score: {round(np.mean(scores[metric]), 3)}\")\n",
    "    print(f\"Standard desviation of {metric}: {np.std(scores[metric])}\\n\")"
   ]
  },
  {
   "cell_type": "markdown",
   "metadata": {},
   "source": [
    "### 5.4 Testing algorithms conclusion\n",
    "\n",
    "I'll select Random Forest for classification model"
   ]
  }
 ],
 "metadata": {
  "kernelspec": {
   "display_name": "base",
   "language": "python",
   "name": "python3"
  },
  "language_info": {
   "codemirror_mode": {
    "name": "ipython",
    "version": 3
   },
   "file_extension": ".py",
   "mimetype": "text/x-python",
   "name": "python",
   "nbconvert_exporter": "python",
   "pygments_lexer": "ipython3",
   "version": "3.11.7"
  }
 },
 "nbformat": 4,
 "nbformat_minor": 2
}
