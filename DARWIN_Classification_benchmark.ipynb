{
 "cells": [
  {
   "cell_type": "markdown",
   "metadata": {},
   "source": [
    "# DARWIN (Diagnosis AlzheimeR WIth haNdwriting) Clasification"
   ]
  },
  {
   "cell_type": "markdown",
   "metadata": {},
   "source": [
    "## 1. Libraries"
   ]
  },
  {
   "cell_type": "code",
   "execution_count": 39,
   "metadata": {},
   "outputs": [],
   "source": [
    "#!pip install graphviz"
   ]
  },
  {
   "cell_type": "code",
   "execution_count": 40,
   "metadata": {},
   "outputs": [],
   "source": [
    "import time\n",
    "\n",
    "import pandas as pd \n",
    "import numpy as np\n",
    "import matplotlib.pyplot as plt\n",
    "import seaborn as sns\n",
    "import os\n",
    "\n",
    "import sklearn\n",
    "from sklearn import set_config\n",
    "from sklearn.tree import DecisionTreeClassifier\n",
    "from sklearn.ensemble import RandomForestClassifier, GradientBoostingClassifier\n",
    "from sklearn.preprocessing import MinMaxScaler,  LabelEncoder\n",
    "from sklearn.pipeline import Pipeline\n",
    "from sklearn.compose import ColumnTransformer\n",
    "from sklearn import metrics\n",
    "from sklearn.metrics import f1_score\n",
    "from sklearn.model_selection import train_test_split,  KFold, cross_validate\n",
    "from sklearn.metrics import  confusion_matrix, roc_auc_score\n",
    "\n",
    "\n",
    "set_config(transform_output = \"pandas\")"
   ]
  },
  {
   "cell_type": "markdown",
   "metadata": {},
   "source": [
    "## 2. Data"
   ]
  },
  {
   "cell_type": "code",
   "execution_count": 41,
   "metadata": {},
   "outputs": [],
   "source": [
    "file_dir = 'C:/Users/mcabo/Desktop/Proyects/Machine Learning/data'\n",
    "file_name =  \"/DARWIN.csv\"\n",
    "df = pd.read_csv(file_dir + file_name, sep = \",\")"
   ]
  },
  {
   "cell_type": "code",
   "execution_count": 44,
   "metadata": {},
   "outputs": [],
   "source": [
    "#df.columns"
   ]
  },
  {
   "cell_type": "code",
   "execution_count": 45,
   "metadata": {},
   "outputs": [],
   "source": [
    "df = df.set_index('ID')"
   ]
  },
  {
   "cell_type": "code",
   "execution_count": 46,
   "metadata": {},
   "outputs": [
    {
     "data": {
      "text/plain": [
       "True"
      ]
     },
     "execution_count": 46,
     "metadata": {},
     "output_type": "execute_result"
    }
   ],
   "source": [
    "len(df.select_dtypes(include = 'number').columns) == len(df.drop('class', axis = 1).columns)"
   ]
  },
  {
   "cell_type": "markdown",
   "metadata": {},
   "source": [
    "## 3. Preprocessing"
   ]
  },
  {
   "cell_type": "code",
   "execution_count": 47,
   "metadata": {},
   "outputs": [],
   "source": [
    "target = 'class'"
   ]
  },
  {
   "cell_type": "code",
   "execution_count": 48,
   "metadata": {},
   "outputs": [],
   "source": [
    "numeric_vars = df.select_dtypes(include = 'number').columns"
   ]
  },
  {
   "cell_type": "code",
   "execution_count": 49,
   "metadata": {},
   "outputs": [],
   "source": [
    "vars = df.drop('class', axis = 1)"
   ]
  },
  {
   "cell_type": "code",
   "execution_count": 50,
   "metadata": {},
   "outputs": [
    {
     "data": {
      "text/plain": [
       "(174, 451)"
      ]
     },
     "execution_count": 50,
     "metadata": {},
     "output_type": "execute_result"
    }
   ],
   "source": [
    "df.shape"
   ]
  },
  {
   "cell_type": "code",
   "execution_count": 51,
   "metadata": {},
   "outputs": [
    {
     "data": {
      "text/plain": [
       "class\n",
       "P    89\n",
       "H    85\n",
       "Name: count, dtype: int64"
      ]
     },
     "execution_count": 51,
     "metadata": {},
     "output_type": "execute_result"
    }
   ],
   "source": [
    "df[target].value_counts()"
   ]
  },
  {
   "cell_type": "code",
   "execution_count": 52,
   "metadata": {},
   "outputs": [],
   "source": [
    "df_t = df"
   ]
  },
  {
   "cell_type": "code",
   "execution_count": 53,
   "metadata": {},
   "outputs": [
    {
     "data": {
      "text/plain": [
       "(174, 451)"
      ]
     },
     "execution_count": 53,
     "metadata": {},
     "output_type": "execute_result"
    }
   ],
   "source": [
    "df_t.shape"
   ]
  },
  {
   "cell_type": "code",
   "execution_count": 54,
   "metadata": {},
   "outputs": [
    {
     "name": "stderr",
     "output_type": "stream",
     "text": [
      "C:\\Users\\mcabo\\AppData\\Local\\Temp\\ipykernel_27212\\896656567.py:2: PerformanceWarning: DataFrame is highly fragmented.  This is usually the result of calling `frame.insert` many times, which has poor performance.  Consider joining all columns at once using pd.concat(axis=1) instead. To get a de-fragmented frame, use `newframe = frame.copy()`\n",
      "  df_t['target_encoded'] = le.fit_transform(df['class'])\n"
     ]
    }
   ],
   "source": [
    "le = LabelEncoder()\n",
    "df_t['target_encoded'] = le.fit_transform(df['class'])\n",
    "df_t.drop('class', axis = 1, inplace = True)"
   ]
  },
  {
   "cell_type": "code",
   "execution_count": 55,
   "metadata": {},
   "outputs": [],
   "source": [
    "def get_pipe(model):\n",
    "\n",
    "    ct_ = ColumnTransformer(transformers = [\n",
    "        ('scaler', MinMaxScaler(), numeric_vars)\n",
    "    ])\n",
    "\n",
    "    pipe = Pipeline(steps = [\n",
    "        ('ct', ct_),\n",
    "        ('model', model)\n",
    "    ])\n",
    "\n",
    "    return pipe"
   ]
  },
  {
   "cell_type": "markdown",
   "metadata": {},
   "source": [
    "## 4. Testing algorithms"
   ]
  },
  {
   "cell_type": "markdown",
   "metadata": {},
   "source": [
    "### 4.1. Decision Tree Cl"
   ]
  },
  {
   "cell_type": "code",
   "execution_count": 56,
   "metadata": {},
   "outputs": [],
   "source": [
    "X_train = df_t.drop('target_encoded', axis = 1)\n",
    "y_train = df_t['target_encoded']"
   ]
  },
  {
   "cell_type": "code",
   "execution_count": 57,
   "metadata": {},
   "outputs": [
    {
     "name": "stdout",
     "output_type": "stream",
     "text": [
      "fit_time scores for each fold: [0.09310102 0.08054137 0.07711816 0.14114022 0.07667685]\n",
      "Mean fit_time score: 0.094\n",
      "Standard desviation of fit_time: 0.02444924139993055\n",
      "\n",
      "score_time scores for each fold: [0.08053708 0.07052326 0.05817294 0.08053207 0.0632782 ]\n",
      "Mean score_time score: 0.071\n",
      "Standard desviation of score_time: 0.00900486255369045\n",
      "\n",
      "test_accuracy scores for each fold: [0.88571429 0.8        0.82857143 0.71428571 0.64705882]\n",
      "Mean test_accuracy score: 0.775\n",
      "Standard desviation of test_accuracy: 0.0846258124963538\n",
      "\n",
      "test_roc_auc scores for each fold: [0.89166667 0.80228758 0.83169935 0.73190789 0.65277778]\n",
      "Mean test_roc_auc score: 0.782\n",
      "Standard desviation of test_roc_auc: 0.08260262403504963\n",
      "\n",
      "test_f1 scores for each fold: [0.89473684 0.81081081 0.84210526 0.66666667 0.66666667]\n",
      "Mean test_f1 score: 0.776\n",
      "Standard desviation of test_f1: 0.09336755009915133\n",
      "\n"
     ]
    }
   ],
   "source": [
    "kfold = KFold(n_splits= 5, shuffle = True, random_state= 42)\n",
    "pipe_dt = get_pipe(DecisionTreeClassifier())\n",
    "\n",
    "scores = cross_validate(pipe_dt, X_train, y_train, cv=kfold, scoring=['accuracy', 'roc_auc', 'f1'], return_train_score=False)\n",
    "\n",
    "for metric in scores.keys():\n",
    "    print(f\"{metric} scores for each fold: {scores[metric]}\")\n",
    "    print(f\"Mean {metric} score: {round(np.mean(scores[metric]), 3)}\")\n",
    "    print(f\"Standard desviation of {metric}: {np.std(scores[metric])}\\n\")"
   ]
  },
  {
   "cell_type": "markdown",
   "metadata": {},
   "source": [
    "### 4.2. Random Forest Cl"
   ]
  },
  {
   "cell_type": "code",
   "execution_count": 58,
   "metadata": {},
   "outputs": [
    {
     "name": "stdout",
     "output_type": "stream",
     "text": [
      "fit_time scores for each fold: [0.32223248 0.28838563 0.28790784 0.28713989 0.28749633]\n",
      "Mean fit_time score: 0.295\n",
      "Standard desviation of fit_time: 0.013806286471994502\n",
      "\n",
      "score_time scores for each fold: [0.07613277 0.11902094 0.06396174 0.06175876 0.06412268]\n",
      "Mean score_time score: 0.077\n",
      "Standard desviation of score_time: 0.021608463362389935\n",
      "\n",
      "test_accuracy scores for each fold: [0.88571429 0.97142857 0.82857143 0.82857143 0.88235294]\n",
      "Mean test_accuracy score: 0.879\n",
      "Standard desviation of test_accuracy: 0.05231617198882343\n",
      "\n",
      "test_roc_auc scores for each fold: [0.96333333 0.97712418 0.92810458 0.95230263 0.95138889]\n",
      "Mean test_roc_auc score: 0.954\n",
      "Standard desviation of test_roc_auc: 0.01613130612013196\n",
      "\n",
      "test_f1 scores for each fold: [0.89473684 0.97142857 0.82352941 0.83333333 0.88888889]\n",
      "Mean test_f1 score: 0.882\n",
      "Standard desviation of test_f1: 0.052903066912003055\n",
      "\n"
     ]
    }
   ],
   "source": [
    "pipe_rf = get_pipe(RandomForestClassifier())\n",
    "\n",
    "scores = cross_validate(pipe_rf, X_train, y_train, cv=kfold, scoring=['accuracy', 'roc_auc', 'f1'], return_train_score=False)\n",
    "\n",
    "for metric in scores.keys():\n",
    "    print(f\"{metric} scores for each fold: {scores[metric]}\")\n",
    "    print(f\"Mean {metric} score: {round(np.mean(scores[metric]), 3)}\")\n",
    "    print(f\"Standard desviation of {metric}: {np.std(scores[metric])}\\n\")"
   ]
  },
  {
   "cell_type": "markdown",
   "metadata": {},
   "source": [
    "### 4.3. Gradient Boosting Cl"
   ]
  },
  {
   "cell_type": "code",
   "execution_count": 59,
   "metadata": {},
   "outputs": [
    {
     "name": "stdout",
     "output_type": "stream",
     "text": [
      "fit_time scores for each fold: [2.62987137 2.60240006 2.62759256 2.64353824 2.69685936]\n",
      "Mean fit_time score: 2.64\n",
      "Standard desviation of fit_time: 0.031355321811714874\n",
      "\n",
      "score_time scores for each fold: [0.05231237 0.04734278 0.05144453 0.05468965 0.04580307]\n",
      "Mean score_time score: 0.05\n",
      "Standard desviation of score_time: 0.003273970900899572\n",
      "\n",
      "test_accuracy scores for each fold: [0.88571429 0.88571429 0.88571429 0.77142857 0.79411765]\n",
      "Mean test_accuracy score: 0.845\n",
      "Standard desviation of test_accuracy: 0.050938512055724965\n",
      "\n",
      "test_roc_auc scores for each fold: [0.97666667 0.97385621 0.97385621 0.87828947 0.90277778]\n",
      "Mean test_roc_auc score: 0.941\n",
      "Standard desviation of test_roc_auc: 0.042011142830772376\n",
      "\n",
      "test_f1 scores for each fold: [0.89473684 0.88888889 0.88235294 0.75       0.81081081]\n",
      "Mean test_f1 score: 0.845\n",
      "Standard desviation of test_f1: 0.05654819263704897\n",
      "\n"
     ]
    }
   ],
   "source": [
    "pipe_gb = get_pipe(GradientBoostingClassifier())\n",
    "\n",
    "scores = cross_validate(pipe_gb, X_train, y_train, cv=kfold, scoring=['accuracy', 'roc_auc', 'f1'], return_train_score=False)\n",
    "\n",
    "for metric in scores.keys():\n",
    "    print(f\"{metric} scores for each fold: {scores[metric]}\")\n",
    "    print(f\"Mean {metric} score: {round(np.mean(scores[metric]), 3)}\")\n",
    "    print(f\"Standard desviation of {metric}: {np.std(scores[metric])}\\n\")"
   ]
  },
  {
   "cell_type": "markdown",
   "metadata": {},
   "source": [
    "### 4.4 Testing algorithms conclusion\n",
    "\n",
    "I'll select Random Forest for classification model"
   ]
  },
  {
   "cell_type": "markdown",
   "metadata": {},
   "source": []
  }
 ],
 "metadata": {
  "kernelspec": {
   "display_name": "base",
   "language": "python",
   "name": "python3"
  },
  "language_info": {
   "codemirror_mode": {
    "name": "ipython",
    "version": 3
   },
   "file_extension": ".py",
   "mimetype": "text/x-python",
   "name": "python",
   "nbconvert_exporter": "python",
   "pygments_lexer": "ipython3",
   "version": "3.11.7"
  }
 },
 "nbformat": 4,
 "nbformat_minor": 2
}
